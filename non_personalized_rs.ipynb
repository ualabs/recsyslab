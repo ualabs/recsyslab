{
 "cells": [
  {
   "cell_type": "markdown",
   "metadata": {},
   "source": [
    "### Неперсонализированная рекомендательная система\n",
    "##### HR (c кроссвалидацией) 0.1024"
   ]
  },
  {
   "cell_type": "markdown",
   "metadata": {},
   "source": [
    "# Games RSs"
   ]
  },
  {
   "cell_type": "code",
   "execution_count": 16,
   "metadata": {
    "collapsed": true
   },
   "outputs": [],
   "source": [
    "# импорты, которые точно понадобятся\n",
    "import pandas as pd\n",
    "import numpy as np\n",
    "\n",
    "from scipy.sparse import csr_matrix\n",
    "import matplotlib.pyplot as plt\n",
    "%matplotlib inline"
   ]
  },
  {
   "cell_type": "code",
   "execution_count": 17,
   "metadata": {
    "collapsed": true
   },
   "outputs": [],
   "source": [
    "# Данные взяты отсюда - http://jmcauley.ucsd.edu/data/amazon/\n",
    "# http://snap.stanford.edu/data/amazon/productGraph/categoryFiles/reviews_Video_Games_5.json.gz\n",
    "JSON_DATA_PATH = \"./reviews_Video_Games_5.json\"\n",
    "N = 10"
   ]
  },
  {
   "cell_type": "markdown",
   "metadata": {},
   "source": [
    "## Загрузка данных"
   ]
  },
  {
   "cell_type": "code",
   "execution_count": 18,
   "metadata": {
    "collapsed": true
   },
   "outputs": [],
   "source": [
    "import json\n",
    "\n",
    "def iter_json_data(path):\n",
    "    with open(path) as f:\n",
    "        for line in f:\n",
    "            data = json.loads(line)\n",
    "            yield data\n",
    "            \n",
    "def get_data_frame():\n",
    "    uid_to_id = {}\n",
    "    iid_to_id = {}\n",
    "    \n",
    "    cols = [\"uid\", \"iid\", \"review\", \"rating\", \"dt\"]\n",
    "    rows = []\n",
    "    for d in iter_json_data(JSON_DATA_PATH):\n",
    "        uid = uid_to_id.setdefault(d[\"reviewerID\"], len(uid_to_id))\n",
    "        iid = iid_to_id.setdefault(d[\"asin\"], len(iid_to_id))\n",
    "        review = d[\"reviewText\"]\n",
    "        rating = float(d[\"overall\"])\n",
    "        dt = int(d[\"unixReviewTime\"])\n",
    "        rows.append((uid, iid, review, rating, dt))\n",
    "        \n",
    "    return pd.DataFrame(rows, columns=cols)"
   ]
  },
  {
   "cell_type": "code",
   "execution_count": 19,
   "metadata": {
    "collapsed": false
   },
   "outputs": [
    {
     "name": "stdout",
     "output_type": "stream",
     "text": [
      "CPU times: user 2.1 s, sys: 88 ms, total: 2.19 s\n",
      "Wall time: 2.19 s\n"
     ]
    }
   ],
   "source": [
    "%%time\n",
    "df = get_data_frame()"
   ]
  },
  {
   "cell_type": "markdown",
   "metadata": {},
   "source": [
    "## Готовим выборки"
   ]
  },
  {
   "cell_type": "code",
   "execution_count": 20,
   "metadata": {
    "collapsed": true
   },
   "outputs": [],
   "source": [
    "def split_df_by_dt(df, p=0.8):\n",
    "    \"\"\"Функция разбивает df на тестовую и тренировочную выборки по времени \n",
    "    публикации отзывов (значение времени в поле dt)\n",
    "    \n",
    "    :param p: персентиль значений dt, которые образуют тренировочную выборку. Например p=0.8 означает, что в \n",
    "    тренировочной части будут отзывы, соответствующие первым 80% временного интервала \n",
    "    :return: два pd.DataFrame объекта\n",
    "    \"\"\"\n",
    "    border_dt = df.dt.quantile(p)\n",
    "    print(\"Min=%s, border=%s, max=%s\" % (df.dt.min(), border_dt, df.dt.max()))\n",
    "    training_df, test_df  = df[df.dt <= border_dt], df[df.dt > border_dt]\n",
    "    print(\"Размер до очистки:\", training_df.shape, test_df.shape)\n",
    "    # удаляем из тестовых данных строки, соответствующие пользователям или объектам, \n",
    "    # которых нет в тренировочных данных \n",
    "    # (пользователи - избегаем проблем для персональных систем, объекты - для всех)\n",
    "    test_df = test_df[test_df.uid.isin(training_df.uid) & test_df.iid.isin(training_df.iid)]\n",
    "    print(\"Размер после очистки:\", training_df.shape, test_df.shape)\n",
    "    return training_df, test_df"
   ]
  },
  {
   "cell_type": "code",
   "execution_count": 21,
   "metadata": {
    "collapsed": false
   },
   "outputs": [
    {
     "name": "stdout",
     "output_type": "stream",
     "text": [
      "Min=939859200, border=1377129600.0, max=1405987200\n",
      "Размер до очистки: (185427, 5) (46353, 5)\n",
      "Размер после очистки: (185427, 5) (19174, 5)\n"
     ]
    }
   ],
   "source": [
    "training_df, test_df = split_df_by_dt(df)\n",
    "del df"
   ]
  },
  {
   "cell_type": "markdown",
   "metadata": {},
   "source": [
    " ## Метрика"
   ]
  },
  {
   "cell_type": "code",
   "execution_count": 7,
   "metadata": {
    "collapsed": true
   },
   "outputs": [],
   "source": [
    "def hit_ratio(recs_dict, test_dict):\n",
    "    \"\"\"Функция считает метрику hit-ration для двух словарей\n",
    "    :recs_dict: словарь рекомендаций типа {uid: {iid: score, ...}, ...}\n",
    "    :test_dict: тестовый словарь типа {uid: {iid: score, ...}, ...}\n",
    "    \"\"\"\n",
    "    hits = 0\n",
    "    for uid in test_dict:\n",
    "        if set(test_dict[uid].keys()).intersection(recs_dict.get(uid, {})):\n",
    "            hits += 1\n",
    "    return hits / len(test_dict)"
   ]
  },
  {
   "cell_type": "code",
   "execution_count": 8,
   "metadata": {
    "collapsed": true
   },
   "outputs": [],
   "source": [
    "def get_test_dict(test_df):\n",
    "    \"\"\"Функция, конвертирующая тестовый df в словарь\n",
    "    \"\"\"\n",
    "    test_dict = {}\n",
    "    for t in test_df.itertuples():\n",
    "        test_dict.setdefault(t.uid, {})\n",
    "        test_dict[t.uid][t.iid] = t.rating\n",
    "    return test_dict\n",
    "\n",
    "test_dict = get_test_dict(test_df)"
   ]
  },
  {
   "cell_type": "markdown",
   "metadata": {},
   "source": [
    "## Non-personalized RS"
   ]
  },
  {
   "cell_type": "markdown",
   "metadata": {},
   "source": [
    "По каждой игре суммируем все рейтинги с дисконтом по времени отзыва \n",
    "(чем старее отзыв тем меньше вклад рейтинга в score). "
   ]
  },
  {
   "cell_type": "code",
   "execution_count": 9,
   "metadata": {
    "collapsed": true
   },
   "outputs": [],
   "source": [
    "class BasicRecommender(object):\n",
    "    def __init__(self):\n",
    "        pass\n",
    "    \n",
    "    def get_recs(self, uid, top):\n",
    "        \"\"\"Строит рекомендации для пользователя uid\n",
    "        :return: словарь типа {iid: score, ...}\n",
    "        \"\"\"\n",
    "        return {}\n",
    "    \n",
    "    def get_batch_recs(self, uids, top):\n",
    "        \"\"\"Строит рекомендации для нескольких пользователей uids\n",
    "        :return: словарь типа {uid: {iid: score, ...}, ...}\n",
    "        \"\"\"\n",
    "        return {uid: self.get_recs(uid, top) for uid in uids}\n",
    "    \n",
    "class NonPersRecommender(BasicRecommender):\n",
    "    def __init__(self, gamma=52.0):\n",
    "        super(NonPersRecommender, self).__init__()\n",
    "        self.gamma=gamma\n",
    "    def fit(self,df):\n",
    "        self.recs = self._prepare_recs(df,self.gamma)\n",
    "        \n",
    "    def _prepare_recs(self, df,gamma):\n",
    "        scores=np.zeros(df.iid.max()+1)\n",
    "        t0=df.dt.min()\n",
    "        t1=df.dt.max()\n",
    "        for t in df.itertuples():\n",
    "                #экспотенциальное уменьшение влияния рейтинга\n",
    "                #отдельного отзыва\n",
    "                norm_time=(t1-t.dt)/(t1-t0)\n",
    "                scores[t.iid]+=t.rating*(pow(np.e,-gamma*norm_time)) \n",
    "                \n",
    "        rez=[]\n",
    "        for iid in range(scores.shape[0]):\n",
    "            rez.append((iid,scores[iid]))\n",
    "            \n",
    "        rez=sorted(rez,key=lambda x: x[1], reverse=True)  \n",
    "        #print(rez[:10])\n",
    "            \n",
    "        return rez\n",
    "    \n",
    "    def get_recs(self, uid, top):\n",
    "        return dict(self.recs[:top])\n",
    "    \n",
    "    def get_batch_recs(self, uids, top):\n",
    "        non_pers_recs = self.get_recs(None, top)\n",
    "        return {uid: non_pers_recs for uid in uids}"
   ]
  },
  {
   "cell_type": "code",
   "execution_count": 10,
   "metadata": {
    "collapsed": true
   },
   "outputs": [],
   "source": [
    "def check_recommender(recommender,test_collection): \n",
    "    \"\"\"\n",
    "        Проверяет рекомендатель на коллекции тестов и возвращаем худший HR на этой коллекции\n",
    "    \"\"\"\n",
    "    values=[]\n",
    "    for training_df,test_df,test_dict in test_collection:\n",
    "        recommender.fit(training_df)\n",
    "        recs_dict=recommender.get_batch_recs(test_df.uid,N)\n",
    "        value=hit_ratio(recs_dict,test_dict)    \n",
    "        values.append(value)\n",
    "    return np.min(values)\n",
    "\n",
    "def gen_crossval_testcollection(training_df,divide_koefs,train_test_ratio=0.8):\n",
    "    \"\"\"\n",
    "        Генерирует коллекцию train/test по данному датасету        \n",
    "        \n",
    "    \"\"\"\n",
    "    time0=training_df.dt.min()\n",
    "    time1=training_df.dt.max()\n",
    "    \n",
    "    test_collection=[]\n",
    "    for divide_koef in divide_koefs:\n",
    "        part_df=training_df[training_df.dt<(time0+(time1-time0)*divide_koef)]\n",
    "        threshold_time=part_df.dt.min()+(part_df.dt.max()-part_df.dt.min())*train_test_ratio\n",
    "       \n",
    "        a=part_df[part_df.dt<threshold_time]  #for train\n",
    "        b=part_df[part_df.dt>=threshold_time] #for test\n",
    "        b=b[b.uid.isin(a.uid) & b.iid.isin(a.iid)]\n",
    "        test_collection.append((a,b,get_test_dict(b)))\n",
    "    return test_collection"
   ]
  },
  {
   "cell_type": "markdown",
   "metadata": {},
   "source": [
    "## Подбор параметра gamma используя кроссвалидацию:"
   ]
  },
  {
   "cell_type": "code",
   "execution_count": 11,
   "metadata": {
    "collapsed": false,
    "scrolled": true
   },
   "outputs": [
    {
     "name": "stdout",
     "output_type": "stream",
     "text": [
      "gamma: 0.0   cross_val_result: 0.02507   target_result: 0.04035  time: 0.9 sec\n",
      "gamma: 1.0   cross_val_result: 0.03721   target_result: 0.07982  time: 1.0 sec\n",
      "gamma: 2.0   cross_val_result: 0.04652   target_result: 0.08232  time: 1.0 sec\n",
      "gamma: 3.0   cross_val_result: 0.04652   target_result: 0.08584  time: 1.0 sec\n",
      "gamma: 4.0   cross_val_result: 0.04015   target_result: 0.08584  time: 1.0 sec\n",
      "gamma: 5.0   cross_val_result: 0.05258   target_result: 0.09420  time: 1.0 sec\n",
      "gamma: 6.0   cross_val_result: 0.05695   target_result: 0.09420  time: 1.0 sec\n",
      "gamma: 7.0   cross_val_result: 0.05764   target_result: 0.09420  time: 1.0 sec\n",
      "gamma: 8.0   cross_val_result: 0.05764   target_result: 0.09420  time: 1.0 sec\n",
      "gamma: 9.0   cross_val_result: 0.06081   target_result: 0.08819  time: 1.0 sec\n",
      "gamma: 10.0   cross_val_result: 0.06081   target_result: 0.08819  time: 1.0 sec\n",
      "gamma: 11.0   cross_val_result: 0.06081   target_result: 0.08819  time: 1.0 sec\n",
      "gamma: 12.0   cross_val_result: 0.06081   target_result: 0.08819  time: 1.0 sec\n",
      "gamma: 13.0   cross_val_result: 0.06081   target_result: 0.08819  time: 1.0 sec\n",
      "gamma: 14.0   cross_val_result: 0.06830   target_result: 0.08819  time: 1.0 sec\n",
      "gamma: 15.0   cross_val_result: 0.07851   target_result: 0.09362  time: 1.0 sec\n",
      "gamma: 16.0   cross_val_result: 0.07851   target_result: 0.09362  time: 1.0 sec\n",
      "gamma: 17.0   cross_val_result: 0.07851   target_result: 0.09919  time: 1.0 sec\n",
      "gamma: 18.0   cross_val_result: 0.07851   target_result: 0.09611  time: 1.0 sec\n",
      "gamma: 19.0   cross_val_result: 0.07851   target_result: 0.09611  time: 1.0 sec\n",
      "gamma: 20.0   cross_val_result: 0.07851   target_result: 0.09611  time: 1.0 sec\n",
      "gamma: 21.0   cross_val_result: 0.07851   target_result: 0.09611  time: 1.0 sec\n",
      "gamma: 22.0   cross_val_result: 0.07806   target_result: 0.09611  time: 1.0 sec\n",
      "gamma: 23.0   cross_val_result: 0.07806   target_result: 0.09787  time: 1.0 sec\n",
      "gamma: 24.0   cross_val_result: 0.07806   target_result: 0.09787  time: 1.0 sec\n",
      "gamma: 25.0   cross_val_result: 0.07806   target_result: 0.09787  time: 1.0 sec\n",
      "gamma: 26.0   cross_val_result: 0.07806   target_result: 0.09787  time: 1.0 sec\n",
      "gamma: 27.0   cross_val_result: 0.09735   target_result: 0.09787  time: 1.0 sec\n",
      "gamma: 28.0   cross_val_result: 0.09735   target_result: 0.09787  time: 1.0 sec\n",
      "gamma: 29.0   cross_val_result: 0.09735   target_result: 0.10242  time: 1.0 sec\n",
      "gamma: 30.0   cross_val_result: 0.09576   target_result: 0.10242  time: 1.0 sec\n",
      "gamma: 31.0   cross_val_result: 0.09943   target_result: 0.10242  time: 1.0 sec\n",
      "gamma: 32.0   cross_val_result: 0.09943   target_result: 0.10242  time: 1.0 sec\n",
      "gamma: 33.0   cross_val_result: 0.09943   target_result: 0.10242  time: 1.0 sec\n",
      "gamma: 34.0   cross_val_result: 0.09943   target_result: 0.10242  time: 1.0 sec\n",
      "gamma: 35.0   cross_val_result: 0.09943   target_result: 0.10242  time: 1.0 sec\n",
      "gamma: 36.0   cross_val_result: 0.09943   target_result: 0.10242  time: 1.0 sec\n",
      "gamma: 37.0   cross_val_result: 0.09943   target_result: 0.10242  time: 1.0 sec\n",
      "gamma: 38.0   cross_val_result: 0.09943   target_result: 0.10242  time: 1.0 sec\n",
      "gamma: 39.0   cross_val_result: 0.09943   target_result: 0.10242  time: 1.0 sec\n",
      "gamma: 40.0   cross_val_result: 0.09943   target_result: 0.10242  time: 1.0 sec\n",
      "gamma: 41.0   cross_val_result: 0.10134   target_result: 0.10242  time: 1.0 sec\n",
      "gamma: 42.0   cross_val_result: 0.10134   target_result: 0.10242  time: 1.0 sec\n",
      "gamma: 43.0   cross_val_result: 0.10134   target_result: 0.10242  time: 1.0 sec\n",
      "gamma: 44.0   cross_val_result: 0.10134   target_result: 0.10242  time: 1.0 sec\n",
      "gamma: 45.0   cross_val_result: 0.10134   target_result: 0.10242  time: 1.0 sec\n",
      "gamma: 46.0   cross_val_result: 0.10134   target_result: 0.10242  time: 1.0 sec\n",
      "gamma: 47.0   cross_val_result: 0.10134   target_result: 0.10242  time: 1.0 sec\n",
      "gamma: 48.0   cross_val_result: 0.10134   target_result: 0.10242  time: 1.0 sec\n",
      "gamma: 49.0   cross_val_result: 0.10134   target_result: 0.10242  time: 1.0 sec\n",
      "gamma: 50.0   cross_val_result: 0.10134   target_result: 0.10242  time: 1.0 sec\n",
      "gamma: 51.0   cross_val_result: 0.10134   target_result: 0.10242  time: 1.0 sec\n",
      "gamma: 52.0   cross_val_result: 0.10229   target_result: 0.10242  time: 1.0 sec\n",
      "gamma: 53.0   cross_val_result: 0.10229   target_result: 0.10242  time: 1.0 sec\n",
      "gamma: 54.0   cross_val_result: 0.10229   target_result: 0.10242  time: 1.0 sec\n",
      "gamma: 55.0   cross_val_result: 0.10229   target_result: 0.10242  time: 1.0 sec\n",
      "gamma: 56.0   cross_val_result: 0.08795   target_result: 0.10242  time: 1.0 sec\n",
      "gamma: 57.0   cross_val_result: 0.08795   target_result: 0.10242  time: 1.0 sec\n",
      "gamma: 58.0   cross_val_result: 0.08795   target_result: 0.10242  time: 1.0 sec\n",
      "gamma: 59.0   cross_val_result: 0.08795   target_result: 0.10242  time: 1.0 sec\n",
      "gamma: 60.0   cross_val_result: 0.08509   target_result: 0.10242  time: 1.0 sec\n",
      "gamma: 61.0   cross_val_result: 0.08509   target_result: 0.10242  time: 1.0 sec\n",
      "gamma: 62.0   cross_val_result: 0.08509   target_result: 0.10242  time: 1.0 sec\n",
      "gamma: 63.0   cross_val_result: 0.08509   target_result: 0.10242  time: 1.0 sec\n",
      "gamma: 64.0   cross_val_result: 0.08509   target_result: 0.10242  time: 1.0 sec\n",
      "gamma: 65.0   cross_val_result: 0.08509   target_result: 0.10242  time: 1.0 sec\n",
      "gamma: 66.0   cross_val_result: 0.08509   target_result: 0.10242  time: 1.0 sec\n",
      "gamma: 67.0   cross_val_result: 0.08509   target_result: 0.10242  time: 1.0 sec\n",
      "gamma: 68.0   cross_val_result: 0.08509   target_result: 0.10242  time: 1.0 sec\n",
      "gamma: 69.0   cross_val_result: 0.08509   target_result: 0.10242  time: 1.0 sec\n",
      "CPU times: user 1min 10s, sys: 24 ms, total: 1min 10s\n",
      "Wall time: 1min 10s\n"
     ]
    }
   ],
   "source": [
    "%%time\n",
    "import time\n",
    "\n",
    "cv_test_collection=gen_crossval_testcollection(training_df,np.linspace(0.1,1.0,10))\n",
    "cv_results=[]\n",
    "target_results=[]\n",
    "gammas=[]\n",
    "for gamma in range(0,70,1):\n",
    "    start_time=time.time()\n",
    "    recommender=NonPersRecommender(gamma=gamma)\n",
    "    \n",
    "    cv_result=check_recommender(recommender,cv_test_collection)\n",
    "    target_result=check_recommender(recommender,[(training_df,test_df,test_dict)])\n",
    "    \n",
    "    target_results.append(target_result)\n",
    "    cv_results.append(cv_result)\n",
    "    gammas.append(gamma)    \n",
    "    \n",
    "    print (\"gamma: %0.1f   cross_val_result: %0.5f   target_result: %0.5f  time: %0.1f sec\"%\n",
    "           (gamma,cv_result,target_result,time.time()-start_time))\n",
    "cv_best_gamma=gammas[np.argmax(cv_results)]\n",
    "cv_best_hr=max(cv_results)"
   ]
  },
  {
   "cell_type": "code",
   "execution_count": 12,
   "metadata": {
    "collapsed": false
   },
   "outputs": [
    {
     "name": "stdout",
     "output_type": "stream",
     "text": [
      "best_gamma: 52.0   cross_val_result: 0.10229 \n"
     ]
    },
    {
     "data": {
      "image/png": "[encoded data removed]",
      "text/plain": [
       "<matplotlib.figure.Figure at 0x7fd7c5ecb898>"
      ]
     },
     "metadata": {},
     "output_type": "display_data"
    }
   ],
   "source": [
    "fig=plt.figure(figsize=(10,5))\n",
    "plt.xlabel('gamma')\n",
    "plt.ylabel('Hit rate')\n",
    "\n",
    "cv_graph,=plt.plot(gammas, cv_results, 'b',label='CrossVal HR')\n",
    "test_graph,=plt.plot(gammas, target_results, 'g--',label='Test HR')\n",
    "plt.annotate('cross_val_max', xy=(cv_best_gamma, cv_best_hr),  xytext=(cv_best_gamma+3, cv_best_hr+0.01),\n",
    "            arrowprops=dict(facecolor='black', shrink=0.05),)\n",
    "plt.legend(handles=[cv_graph, test_graph])\n",
    "\n",
    "\n",
    "print (\"best_gamma: %0.1f   cross_val_result: %0.5f \"%(cv_best_gamma,cv_best_hr))"
   ]
  },
  {
   "cell_type": "markdown",
   "metadata": {},
   "source": [
    "## Финальный тест"
   ]
  },
  {
   "cell_type": "code",
   "execution_count": 23,
   "metadata": {
    "collapsed": false
   },
   "outputs": [
    {
     "name": "stdout",
     "output_type": "stream",
     "text": [
      "HR:  0.10242112986060162\n",
      "CPU times: user 316 ms, sys: 0 ns, total: 316 ms\n",
      "Wall time: 332 ms\n"
     ]
    }
   ],
   "source": [
    "%%time\n",
    "recommender=NonPersRecommender(gamma=cv_best_gamma)\n",
    "recommender.fit(training_df)\n",
    "recs_dict=recommender.get_batch_recs(test_df.uid.unique(),N)\n",
    "value=hit_ratio(recs_dict,test_dict)   \n",
    "print(\"HR: \",value)"
   ]
  },
  {
   "cell_type": "code",
   "execution_count": null,
   "metadata": {
    "collapsed": true
   },
   "outputs": [],
   "source": []
  }
 ],
 "metadata": {
  "anaconda-cloud": {},
  "kernelspec": {
   "display_name": "Python [default]",
   "language": "python",
   "name": "python3"
  },
  "language_info": {
   "codemirror_mode": {
    "name": "ipython",
    "version": 3
   },
   "file_extension": ".py",
   "mimetype": "text/x-python",
   "name": "python",
   "nbconvert_exporter": "python",
   "pygments_lexer": "ipython3",
   "version": "3.5.2"
  }
 },
 "nbformat": 4,
 "nbformat_minor": 2
}
