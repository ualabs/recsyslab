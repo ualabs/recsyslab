{
 "cells": [
  {
   "cell_type": "code",
   "execution_count": 1,
   "metadata": {
    "collapsed": true
   },
   "outputs": [],
   "source": [
    "### Content-based рекомендательная система\n",
    "##### HR@10  0.766"
   ]
  },
  {
   "cell_type": "markdown",
   "metadata": {},
   "source": [
    "# Games RSs"
   ]
  },
  {
   "cell_type": "code",
   "execution_count": 2,
   "metadata": {
    "collapsed": true
   },
   "outputs": [],
   "source": [
    "# импорты, которые точно понадобятся\n",
    "import pandas as pd\n",
    "import numpy as np\n",
    "\n",
    "from scipy.sparse import csr_matrix\n",
    "import matplotlib.pyplot as plt\n",
    "%matplotlib inline"
   ]
  },
  {
   "cell_type": "code",
   "execution_count": 3,
   "metadata": {
    "collapsed": true
   },
   "outputs": [],
   "source": [
    "# Данные взяты отсюда - http://jmcauley.ucsd.edu/data/amazon/\n",
    "# http://snap.stanford.edu/data/amazon/productGraph/categoryFiles/reviews_Video_Games_5.json.gz\n",
    "JSON_DATA_PATH = \"./reviews_Video_Games_5.json\"\n",
    "N = 10"
   ]
  },
  {
   "cell_type": "markdown",
   "metadata": {},
   "source": [
    "## Загрузка данных"
   ]
  },
  {
   "cell_type": "code",
   "execution_count": 4,
   "metadata": {
    "collapsed": true
   },
   "outputs": [],
   "source": [
    "import json\n",
    "\n",
    "def iter_json_data(path):\n",
    "    with open(path) as f:\n",
    "        for line in f:\n",
    "            data = json.loads(line)\n",
    "            yield data\n",
    "            \n",
    "def get_data_frame():\n",
    "    uid_to_id = {}\n",
    "    iid_to_id = {}\n",
    "    \n",
    "    cols = [\"uid\", \"iid\", \"review\", \"rating\", \"dt\"]\n",
    "    rows = []\n",
    "    for d in iter_json_data(JSON_DATA_PATH):\n",
    "        uid = uid_to_id.setdefault(d[\"reviewerID\"], len(uid_to_id))\n",
    "        iid = iid_to_id.setdefault(d[\"asin\"], len(iid_to_id))\n",
    "        review = d[\"reviewText\"]\n",
    "        rating = float(d[\"overall\"])\n",
    "        dt = int(d[\"unixReviewTime\"])\n",
    "        rows.append((uid, iid, review, rating, dt))\n",
    "        \n",
    "    return pd.DataFrame(rows, columns=cols)"
   ]
  },
  {
   "cell_type": "code",
   "execution_count": 5,
   "metadata": {
    "collapsed": false
   },
   "outputs": [
    {
     "name": "stdout",
     "output_type": "stream",
     "text": [
      "CPU times: user 2.18 s, sys: 148 ms, total: 2.32 s\n",
      "Wall time: 2.36 s\n"
     ]
    }
   ],
   "source": [
    "%%time\n",
    "df = get_data_frame()"
   ]
  },
  {
   "cell_type": "markdown",
   "metadata": {},
   "source": [
    "## Готовим выборки"
   ]
  },
  {
   "cell_type": "code",
   "execution_count": 6,
   "metadata": {
    "collapsed": true
   },
   "outputs": [],
   "source": [
    "def split_df_by_dt(df, p=0.8):\n",
    "    \"\"\"Функция разбивает df на тестовую и тренировочную выборки по времени \n",
    "    публикации отзывов (значение времени в поле dt)\n",
    "    \n",
    "    :param p: персентиль значений dt, которые образуют тренировочную выборку. Например p=0.8 означает, что в \n",
    "    тренировочной части будут отзывы, соответствующие первым 80% временного интервала \n",
    "    :return: два pd.DataFrame объекта\n",
    "    \"\"\"\n",
    "    border_dt = df.dt.quantile(p)\n",
    "    print(\"Min=%s, border=%s, max=%s\" % (df.dt.min(), border_dt, df.dt.max()))\n",
    "    training_df, test_df  = df[df.dt <= border_dt], df[df.dt > border_dt]\n",
    "    print(\"Размер до очистки:\", training_df.shape, test_df.shape)\n",
    "    # удаляем из тестовых данных строки, соответствующие пользователям или объектам, \n",
    "    # которых нет в тренировочных данных \n",
    "    # (пользователи - избегаем проблем для персональных систем, объекты - для всех)\n",
    "    test_df = test_df[test_df.uid.isin(training_df.uid) & test_df.iid.isin(training_df.iid)]\n",
    "    print(\"Размер после очистки:\", training_df.shape, test_df.shape)\n",
    "    return training_df, test_df"
   ]
  },
  {
   "cell_type": "code",
   "execution_count": 7,
   "metadata": {
    "collapsed": false
   },
   "outputs": [
    {
     "name": "stdout",
     "output_type": "stream",
     "text": [
      "Min=939859200, border=1377129600.0, max=1405987200\n",
      "Размер до очистки: (185427, 5) (46353, 5)\n",
      "Размер после очистки: (185427, 5) (19174, 5)\n"
     ]
    }
   ],
   "source": [
    "training_df, test_df = split_df_by_dt(df)\n",
    "del df"
   ]
  },
  {
   "cell_type": "markdown",
   "metadata": {},
   "source": [
    " ## Метрика"
   ]
  },
  {
   "cell_type": "code",
   "execution_count": 8,
   "metadata": {
    "collapsed": true
   },
   "outputs": [],
   "source": [
    "def hit_ratio(recs_dict, test_dict):\n",
    "    \"\"\"Функция считает метрику hit-ration для двух словарей\n",
    "    :recs_dict: словарь рекомендаций типа {uid: {iid: score, ...}, ...}\n",
    "    :test_dict: тестовый словарь типа {uid: {iid: score, ...}, ...}\n",
    "    \"\"\"\n",
    "    hits = 0\n",
    "    for uid in test_dict:\n",
    "        if set(test_dict[uid].keys()).intersection(recs_dict.get(uid, {})):\n",
    "            hits += 1\n",
    "    return hits / len(test_dict)"
   ]
  },
  {
   "cell_type": "code",
   "execution_count": 9,
   "metadata": {
    "collapsed": true
   },
   "outputs": [],
   "source": [
    "def get_test_dict(test_df):\n",
    "    \"\"\"Функция, конвертирующая тестовый df в словарь\n",
    "    \"\"\"\n",
    "    test_dict = {}\n",
    "    for t in test_df.itertuples():\n",
    "        test_dict.setdefault(t.uid, {})\n",
    "        test_dict[t.uid][t.iid] = t.rating\n",
    "    return test_dict\n",
    "\n",
    "test_dict = get_test_dict(test_df)"
   ]
  },
  {
   "cell_type": "markdown",
   "metadata": {},
   "source": [
    "## CBRS"
   ]
  },
  {
   "cell_type": "code",
   "execution_count": 10,
   "metadata": {
    "collapsed": true
   },
   "outputs": [],
   "source": [
    "from tqdm import tqdm\n",
    "\n",
    "class BasicRecommender(object):\n",
    "    def __init__(self):\n",
    "        pass\n",
    "    \n",
    "    def get_recs(self, uid, top):\n",
    "        \"\"\"Строит рекомендации для пользователя uid\n",
    "        :return: словарь типа {iid: score, ...}\n",
    "        \"\"\"\n",
    "        return {}\n",
    "    \n",
    "    def get_batch_recs(self, uids, top):\n",
    "        \"\"\"Строит рекомендации для нескольких пользователей uids\n",
    "        :return: словарь типа {uid: {iid: score, ...}, ...}\n",
    "        \"\"\"\n",
    "        return {uid: self.get_recs(uid, top) for uid in uids}"
   ]
  },
  {
   "cell_type": "code",
   "execution_count": 11,
   "metadata": {
    "collapsed": false
   },
   "outputs": [],
   "source": [
    "#########################################################################\n",
    "def _prepare_iid_data(df, review_ftr_m): \n",
    "    iid_to_row = {}\n",
    "    rows = []\n",
    "    # не самый оптимальный group by       \n",
    "    for row_id, iid in enumerate(tqdm(df.iid.unique())):\n",
    "        iid_to_row[iid] = row_id\n",
    "        iid_ftr_m = csr_matrix(\n",
    "            review_ftr_m[np.where(df.iid == iid)[0]].sum(axis=0)\n",
    "        )\n",
    "        rows.append(iid_ftr_m)\n",
    "    iid_ftr_m = normalize(vstack(rows, format='csr'),axis=1)\n",
    "    return iid_to_row, iid_ftr_m\n",
    "#########################################################################\n",
    "def _prepare_uid_data(df, iid_to_row, iid_ftr_m):  \n",
    "    uid_to_row = {}\n",
    "    rows = []\n",
    "\n",
    "    # gr_df - кусок df с данными одного пользователя \n",
    "    for gr_id, gr_df in tqdm(df.groupby(\"uid\")):\n",
    "        uid = gr_df.uid.values[0]\n",
    "\n",
    "        # поиск объектов и пользовательских рейтингов для них\n",
    "        iid_rows = []\n",
    "        iid_rows_dict=dict()\n",
    "        ratings = []\n",
    "        for iid, rating in zip(gr_df.iid.values, gr_df.rating.values):\n",
    "            if iid in iid_to_row:\n",
    "                iid_rows.append(iid_to_row[iid])\n",
    "                ratings.append(rating)\n",
    "                iid_rows_dict[iid]=rating\n",
    "\n",
    "        # создание профиля пользователя (учитываем только сам факт ревью, без рейтингов)\n",
    "        if iid_rows:\n",
    "            ratings = np.array(ratings).reshape(-1, 1)\n",
    "            uid_ftr_m_plus = csr_matrix(\n",
    "                iid_ftr_m[iid_rows].multiply(1.0).sum(axis=0)\n",
    "            )\n",
    "            uid_to_row[uid] = len(uid_to_row)\n",
    "            rows.append(uid_ftr_m_plus)\n",
    "\n",
    "    uid_ftr_m = normalize(vstack(rows, format='csr'))\n",
    "    return uid_to_row, uid_ftr_m\n",
    "#########################################################################  \n"
   ]
  },
  {
   "cell_type": "code",
   "execution_count": 12,
   "metadata": {
    "collapsed": false
   },
   "outputs": [],
   "source": [
    "from sklearn.feature_extraction.text import TfidfVectorizer\n",
    "from sklearn.preprocessing import normalize\n",
    "from scipy.sparse import vstack\n",
    "import time\n",
    "\n",
    "class ContentBasedRecommender(BasicRecommender):\n",
    "    def __init__(self):\n",
    "        super(BasicRecommender, self).__init__()\n",
    "    def fit(self,training_df):\n",
    "        \n",
    "        self.vect=TfidfVectorizer(stop_words='english',max_features=64*1024)\n",
    "        \n",
    "        print(\"fit on %d records\"%(len(training_df)),flush=True)\n",
    "\n",
    "        start=time.time()\n",
    "        self.review_ftr_m = self.vect.fit_transform(training_df.review)\n",
    "        print(\"TfidfVectorizer.fit_transform(): %0.1f sec\"%(time.time()-start),flush=True)\n",
    "               \n",
    "        start=time.time()\n",
    "        self.iid_to_row, self.iid_ftr_m = _prepare_iid_data(training_df, self.review_ftr_m)\n",
    "        self.row_to_iid = {row_id: iid for iid, row_id in self.iid_to_row.items()}\n",
    "        print(\"_prepare_iid_data(): %0.1f sec\"%(time.time()-start),flush=True)\n",
    "                \n",
    "        start=time.time()\n",
    "        self.uid_to_row, self.uid_ftr_m = _prepare_uid_data(training_df, self.iid_to_row, self.iid_ftr_m)   \n",
    "        self.ftr_iid_m = self.iid_ftr_m.T.tocsr()\n",
    "        print(\"_prepare_uid_data() %0.1f sec\"%(time.time()-start),flush=True)\n",
    "             \n",
    "        #Создаем словарик user-item чтобы в дальнейшем не рекомендовать уже купленные игры\n",
    "        self.used_items=dict()\n",
    "        for t in training_df.itertuples():\n",
    "            self.used_items[(t.uid,t.iid)]=True\n",
    "    \n",
    "    def get_recs(self, uid, top=N):\n",
    "        recs = []\n",
    "        if uid in self.uid_to_row:\n",
    "            u_row_id = self.uid_to_row[uid]\n",
    "            u_row = self.uid_ftr_m[u_row_id]\n",
    "\n",
    "            # самописный cosine similarity\n",
    "            u_recs = u_row.dot(self.ftr_iid_m)\n",
    "\n",
    "            for arg_id in np.argsort(-u_recs.data):\n",
    "                if len(recs)>=top:\n",
    "                    #если уже набралось N рекомендаций, на выход!\n",
    "                    break                    \n",
    "                row_id = u_recs.indices[arg_id]\n",
    "                iid=self.row_to_iid[row_id]\n",
    "                if not ((uid,iid) in self.used_items):\n",
    "                    #пропускаем уже купленные мгры\n",
    "                    score = u_recs.data[arg_id]\n",
    "                    recs.append((iid,score))\n",
    "        return recs\n",
    "    \n",
    "    def get_batch_recs(self, uids, top=N):\n",
    "        rez=dict()\n",
    "        print(\"Get recommendations: \",flush=True)\n",
    "        for uid in tqdm(uids):\n",
    "            rez[uid]=dict(self.get_recs(uid,top)[:top])\n",
    "        return rez"
   ]
  },
  {
   "cell_type": "markdown",
   "metadata": {},
   "source": [
    "## Финальный тест"
   ]
  },
  {
   "cell_type": "code",
   "execution_count": 13,
   "metadata": {
    "collapsed": false
   },
   "outputs": [
    {
     "name": "stdout",
     "output_type": "stream",
     "text": [
      "fit on 185427 records\n",
      "TfidfVectorizer.fit_transform(): 23.3 sec\n"
     ]
    },
    {
     "name": "stderr",
     "output_type": "stream",
     "text": [
      "100%|██████████| 10098/10098 [00:10<00:00, 942.14it/s]\n"
     ]
    },
    {
     "name": "stdout",
     "output_type": "stream",
     "text": [
      "_prepare_iid_data(): 10.8 sec\n"
     ]
    },
    {
     "name": "stderr",
     "output_type": "stream",
     "text": [
      "100%|██████████| 22215/22215 [00:31<00:00, 703.61it/s]\n"
     ]
    },
    {
     "name": "stdout",
     "output_type": "stream",
     "text": [
      "_prepare_uid_data() 33.9 sec\n",
      "Get recommendations: \n"
     ]
    },
    {
     "name": "stderr",
     "output_type": "stream",
     "text": [
      "100%|██████████| 6815/6815 [00:57<00:00, 119.43it/s]"
     ]
    },
    {
     "name": "stdout",
     "output_type": "stream",
     "text": [
      "HR:  0.07659574468085106\n",
      "CPU times: user 2min 3s, sys: 2 s, total: 2min 5s\n",
      "Wall time: 2min 5s\n"
     ]
    },
    {
     "name": "stderr",
     "output_type": "stream",
     "text": [
      "\n"
     ]
    }
   ],
   "source": [
    "%%time\n",
    "recommender=ContentBasedRecommender()\n",
    "recommender.fit(training_df)\n",
    "recs_dict=recommender.get_batch_recs(test_df.uid.unique())\n",
    "value=hit_ratio(recs_dict,test_dict)   \n",
    "print(\"HR: \",value)"
   ]
  },
  {
   "cell_type": "code",
   "execution_count": 14,
   "metadata": {
    "collapsed": false
   },
   "outputs": [
    {
     "name": "stdout",
     "output_type": "stream",
     "text": [
      "HR:  0.07659574468085106\n"
     ]
    }
   ],
   "source": [
    "print(\"HR: \",value)"
   ]
  }
 ],
 "metadata": {
  "anaconda-cloud": {},
  "kernelspec": {
   "display_name": "Python [default]",
   "language": "python",
   "name": "python3"
  },
  "language_info": {
   "codemirror_mode": {
    "name": "ipython",
    "version": 3
   },
   "file_extension": ".py",
   "mimetype": "text/x-python",
   "name": "python",
   "nbconvert_exporter": "python",
   "pygments_lexer": "ipython3",
   "version": "3.5.2"
  }
 },
 "nbformat": 4,
 "nbformat_minor": 2
}
